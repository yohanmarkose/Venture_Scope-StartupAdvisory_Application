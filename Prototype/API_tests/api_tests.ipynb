{
 "cells": [
  {
   "cell_type": "code",
   "execution_count": 2,
   "id": "ed95b0c1",
   "metadata": {},
   "outputs": [],
   "source": [
    "from tavily import TavilyClient\n",
    "from dotenv import load_dotenv\n",
    "import os\n",
    "load_dotenv()\n",
    "\n",
    "OPENAI_API_KEY = os.getenv(\"OPENAI_API_KEY\")\n",
    "\n",
    "TAVILY_API_KEY = os.getenv(\"TAVILY_API_KEY\")\n",
    "tavily_client = TavilyClient(TAVILY_API_KEY)"
   ]
  },
  {
   "cell_type": "code",
   "execution_count": 6,
   "id": "42cc52b3",
   "metadata": {},
   "outputs": [],
   "source": [
    "\n",
    "response = tavily_client.search(query=\"what are the top 10 movies of 2023?\", limit=5)"
   ]
  },
  {
   "cell_type": "code",
   "execution_count": 8,
   "id": "70ca7f30",
   "metadata": {},
   "outputs": [],
   "source": [
    "formatted_results = []\n",
    "if 'results' in response:\n",
    "    for result in response['results']:\n",
    "        title = result.get('title', '')\n",
    "        url = result.get('url', '')\n",
    "        content = result.get('content', '')\n",
    "        \n",
    "        # Format each result as a dictionary string\n",
    "        result_str = f'{{\"title\": \"{title}\", \"url\": \"{url}\", \"content\": \"{content}\"}}'\n",
    "        formatted_results.append(result_str)"
   ]
  },
  {
   "cell_type": "code",
   "execution_count": null,
   "id": "f385ef61",
   "metadata": {},
   "outputs": [],
   "source": [
    "output_string = \"\"\n",
    "if 'results' in response:\n",
    "    for i, result in enumerate(response['results']):\n",
    "        # Extract the required fields\n",
    "        title = result.get('title', '')\n",
    "        url = result.get('url', '')\n",
    "        content = result.get('content', '')\n",
    "        \n",
    "        # Format each result and add to the output string\n",
    "        output_string += f'Title: {title} \\n URL: {url} \\n Content: {content}'\n",
    "        \n",
    "        # Add a separator between results (except after the last one)\n",
    "        if i < len(response['results']) - 1:\n",
    "            output_string += '\\n\\n'"
   ]
  },
  {
   "cell_type": "code",
   "execution_count": 12,
   "id": "4a2595e2",
   "metadata": {},
   "outputs": [
    {
     "data": {
      "text/plain": [
       "\"Title: Best Movies 2023 - Rotten Tomatoes\\nURL: https://editorial.rottentomatoes.com/guide/best-2023-movies/\\nContent: Best Movies 2023. After an explosive run in theaters, including generating over $900 million worldwide and a revitalizing IMAX engagement, Universal's creative gamble pays off as critics crown director Christopher Nolan and star Cillian Murphy for Oppenheimer.\\n\\nTitle: The 10 best movies of 2023 - ABC News\\nURL: https://abcnews.go.com/GMA/Culture/review-10-best-movies-2023/story?id=105786708\\nContent: The 10 best movies of 2023. Peter Travers shares his take on the best 10 films of 2023. By Peter Travers. December 26, 2023, 4:44 AM. 1:41.\\n\\nTitle: The Top 10 Movies of 2023 | Best of 2023 - IMDb\\nURL: https://www.imdb.com/best-of/top-movies-2023/\\nContent: Among the movies released in the U.S. in 2023, these 10 were consistently most popular with IMDb users, as determined by the actual page views of the more than 200 million monthly visitors to IMDb worldwide. This exclusive and definitive data is derived from IMDbPro MOVIEmeter rankings, which are updated weekly throughout the year.\\n\\nTitle: The Ten Best Films of 2023 | Features - Roger Ebert\\nURL: https://www.rogerebert.com/features/the-ten-best-films-of-2023\\nContent: These are the films selected by the regular film reviewing staff of RogerEbert.com as the best of the year. Come back on Thursday to see the specific lists of all of the regular critics, plus those from our extended family of contributors. And click through on the links below, when available, to watch the best films of 2023.\\n\\nTitle: The 10 best movies of 2023 (and 4 worst) - Entertainment Weekly\\nURL: https://ew.com/best-movies-of-2023-8411359\\nContent: The 10 best TV shows of 2023 (and 3 worst) See top 2024 Oscars contenders for Best Picture, Actor, Actress, and more Wonka review: Timothée Chalamet leans into sense of pure imagination in\""
      ]
     },
     "execution_count": 12,
     "metadata": {},
     "output_type": "execute_result"
    }
   ],
   "source": [
    "output_string"
   ]
  },
  {
   "cell_type": "code",
   "execution_count": 9,
   "id": "b0c857f3",
   "metadata": {},
   "outputs": [
    {
     "data": {
      "text/plain": [
       "'[{\"title\": \"Best Movies 2023 - Rotten Tomatoes\", \"url\": \"https://editorial.rottentomatoes.com/guide/best-2023-movies/\", \"content\": \"Best Movies 2023. After an explosive run in theaters, including generating over $900 million worldwide and a revitalizing IMAX engagement, Universal\\'s creative gamble pays off as critics crown director Christopher Nolan and star Cillian Murphy for Oppenheimer.\"}, {\"title\": \"The 10 best movies of 2023 - ABC News\", \"url\": \"https://abcnews.go.com/GMA/Culture/review-10-best-movies-2023/story?id=105786708\", \"content\": \"The 10 best movies of 2023. Peter Travers shares his take on the best 10 films of 2023. By Peter Travers. December 26, 2023, 4:44 AM. 1:41.\"}, {\"title\": \"The Top 10 Movies of 2023 | Best of 2023 - IMDb\", \"url\": \"https://www.imdb.com/best-of/top-movies-2023/\", \"content\": \"Among the movies released in the U.S. in 2023, these 10 were consistently most popular with IMDb users, as determined by the actual page views of the more than 200 million monthly visitors to IMDb worldwide. This exclusive and definitive data is derived from IMDbPro MOVIEmeter rankings, which are updated weekly throughout the year.\"}, {\"title\": \"The Ten Best Films of 2023 | Features - Roger Ebert\", \"url\": \"https://www.rogerebert.com/features/the-ten-best-films-of-2023\", \"content\": \"These are the films selected by the regular film reviewing staff of RogerEbert.com as the best of the year. Come back on Thursday to see the specific lists of all of the regular critics, plus those from our extended family of contributors. And click through on the links below, when available, to watch the best films of 2023.\"}, {\"title\": \"The 10 best movies of 2023 (and 4 worst) - Entertainment Weekly\", \"url\": \"https://ew.com/best-movies-of-2023-8411359\", \"content\": \"The 10 best TV shows of 2023 (and 3 worst) See top 2024 Oscars contenders for Best Picture, Actor, Actress, and more Wonka review: Timothée Chalamet leans into sense of pure imagination in\"}]'"
      ]
     },
     "execution_count": 9,
     "metadata": {},
     "output_type": "execute_result"
    }
   ],
   "source": [
    "\"[\" + \", \".join(formatted_results) + \"]\""
   ]
  },
  {
   "cell_type": "code",
   "execution_count": 3,
   "id": "62e346f2",
   "metadata": {},
   "outputs": [
    {
     "name": "stdout",
     "output_type": "stream",
     "text": [
      "{'Symbol': 'IBM', 'AssetType': 'Common Stock', 'Name': 'International Business Machines', 'Description': 'International Business Machines Corporation (IBM) is an American multinational technology company headquartered in Armonk, New York, with operations in over 170 countries. The company began in 1911, founded in Endicott, New York, as the Computing-Tabulating-Recording Company (CTR) and was renamed International Business Machines in 1924. IBM is incorporated in New York. IBM produces and sells computer hardware, middleware and software, and provides hosting and consulting services in areas ranging from mainframe computers to nanotechnology. IBM is also a major research organization, holding the record for most annual U.S. patents generated by a business (as of 2020) for 28 consecutive years. Inventions by IBM include the automated teller machine (ATM), the floppy disk, the hard disk drive, the magnetic stripe card, the relational database, the SQL programming language, the UPC barcode, and dynamic random-access memory (DRAM). The IBM mainframe, exemplified by the System/360, was the dominant computing platform during the 1960s and 1970s.', 'CIK': '51143', 'Exchange': 'NYSE', 'Currency': 'USD', 'Country': 'USA', 'Sector': 'TECHNOLOGY', 'Industry': 'COMPUTER & OFFICE EQUIPMENT', 'Address': '1 NEW ORCHARD ROAD, ARMONK, NY, US', 'OfficialSite': 'https://www.ibm.com', 'FiscalYearEnd': 'December', 'LatestQuarter': '2024-12-31', 'MarketCapitalization': '210934006000', 'EBITDA': '10442000000', 'PERatio': '35.49', 'PEGRatio': '1.553', 'BookValue': '29.48', 'DividendPerShare': '6.67', 'DividendYield': '0.0294', 'EPS': '6.41', 'RevenuePerShareTTM': '68.08', 'ProfitMargin': '0.096', 'OperatingMarginTTM': '0.197', 'ReturnOnAssetsTTM': '0.0306', 'ReturnOnEquityTTM': '0.241', 'RevenueTTM': '62753001000', 'GrossProfitTTM': '35552002000', 'DilutedEPSTTM': '6.41', 'QuarterlyEarningsGrowthYOY': '-0.129', 'QuarterlyRevenueGrowthYOY': '0.01', 'AnalystTargetPrice': '253.99', 'AnalystRatingStrongBuy': '3', 'AnalystRatingBuy': '7', 'AnalystRatingHold': '8', 'AnalystRatingSell': '2', 'AnalystRatingStrongSell': '1', 'TrailingPE': '35.49', 'ForwardPE': '20.88', 'PriceToSalesRatioTTM': '3.361', 'PriceToBookRatio': '7.72', 'EVToRevenue': '4.059', 'EVToEBITDA': '20.92', 'Beta': '0.662', '52WeekHigh': '266.45', '52WeekLow': '157.33', '50DayMovingAverage': '250.79', '200DayMovingAverage': '219.15', 'SharesOutstanding': '927264000', 'DividendDate': '2025-03-10', 'ExDividendDate': '2025-02-10'}\n"
     ]
    }
   ],
   "source": [
    "import requests\n",
    "\n",
    "# replace the \"demo\" apikey below with your own key from https://www.alphavantage.co/support/#api-key\n",
    "url = 'https://www.alphavantage.co/query?function=OVERVIEW&symbol=IBM&apikey=WIE0ULQGJL3K6EKA'\n",
    "r = requests.get(url)\n",
    "data = r.json()\n",
    "\n",
    "print(data)"
   ]
  },
  {
   "cell_type": "code",
   "execution_count": 4,
   "id": "85447696",
   "metadata": {},
   "outputs": [],
   "source": [
    "from eodhd import APIClient\n",
    "import pandas as pd"
   ]
  },
  {
   "cell_type": "code",
   "execution_count": 5,
   "id": "124055b6",
   "metadata": {},
   "outputs": [],
   "source": [
    "api = APIClient(\"67f455c8d6d949.46717903\")"
   ]
  },
  {
   "cell_type": "code",
   "execution_count": 6,
   "id": "2f79bfa2",
   "metadata": {},
   "outputs": [
    {
     "data": {
      "text/html": [
       "<pre style=\"white-space:pre;overflow-x:auto;line-height:normal;font-family:Menlo,'DejaVu Sans Mono',consolas,'Courier New',monospace\"><span style=\"color: #7fbfbf; text-decoration-color: #7fbfbf\">[18:57:45] </span>Expecting value: line <span style=\"color: #008080; text-decoration-color: #008080; font-weight: bold\">1</span> column <span style=\"color: #008080; text-decoration-color: #008080; font-weight: bold\">1</span> <span style=\"font-weight: bold\">(</span>char <span style=\"color: #008080; text-decoration-color: #008080; font-weight: bold\">0</span><span style=\"font-weight: bold\">)</span>                                                  <a href=\"file://c:\\Users\\yohan\\anaconda3\\envs\\final_proj_1\\Lib\\site-packages\\eodhd\\APIs\\BaseAPI.py\" target=\"_blank\"><span style=\"color: #7f7f7f; text-decoration-color: #7f7f7f\">BaseAPI.py</span></a><span style=\"color: #7f7f7f; text-decoration-color: #7f7f7f\">:</span><a href=\"file://c:\\Users\\yohan\\anaconda3\\envs\\final_proj_1\\Lib\\site-packages\\eodhd\\APIs\\BaseAPI.py#39\" target=\"_blank\"><span style=\"color: #7f7f7f; text-decoration-color: #7f7f7f\">39</span></a>\n",
       "</pre>\n"
      ],
      "text/plain": [
       "\u001b[2;36m[18:57:45]\u001b[0m\u001b[2;36m \u001b[0mExpecting value: line \u001b[1;36m1\u001b[0m column \u001b[1;36m1\u001b[0m \u001b[1m(\u001b[0mchar \u001b[1;36m0\u001b[0m\u001b[1m)\u001b[0m                                                  \u001b]8;id=87113;file://c:\\Users\\yohan\\anaconda3\\envs\\final_proj_1\\Lib\\site-packages\\eodhd\\APIs\\BaseAPI.py\u001b\\\u001b[2mBaseAPI.py\u001b[0m\u001b]8;;\u001b\\\u001b[2m:\u001b[0m\u001b]8;id=683280;file://c:\\Users\\yohan\\anaconda3\\envs\\final_proj_1\\Lib\\site-packages\\eodhd\\APIs\\BaseAPI.py#39\u001b\\\u001b[2m39\u001b[0m\u001b]8;;\u001b\\\n"
      ]
     },
     "metadata": {},
     "output_type": "display_data"
    },
    {
     "data": {
      "text/html": [
       "<pre style=\"white-space:pre;overflow-x:auto;line-height:normal;font-family:Menlo,'DejaVu Sans Mono',consolas,'Courier New',monospace\"><span style=\"color: #7fbfbf; text-decoration-color: #7fbfbf\">           </span><span style=\"color: #008080; text-decoration-color: #008080; font-weight: bold\">403</span> Client Error: Forbidden for url:                                                       <a href=\"file://c:\\Users\\yohan\\anaconda3\\envs\\final_proj_1\\Lib\\site-packages\\eodhd\\APIs\\BaseAPI.py\" target=\"_blank\"><span style=\"color: #7f7f7f; text-decoration-color: #7f7f7f\">BaseAPI.py</span></a><span style=\"color: #7f7f7f; text-decoration-color: #7f7f7f\">:</span><a href=\"file://c:\\Users\\yohan\\anaconda3\\envs\\final_proj_1\\Lib\\site-packages\\eodhd\\APIs\\BaseAPI.py#52\" target=\"_blank\"><span style=\"color: #7f7f7f; text-decoration-color: #7f7f7f\">52</span></a>\n",
       "<span style=\"color: #7fbfbf; text-decoration-color: #7fbfbf\">           </span><span style=\"color: #0000ff; text-decoration-color: #0000ff; text-decoration: underline\">https://eodhd.com/api/calendar/trends/?api_token=67f455c8d6d949.46717903&amp;fmt=json&amp;symbols=</span> <span style=\"color: #7f7f7f; text-decoration-color: #7f7f7f\">             </span>\n",
       "<span style=\"color: #7fbfbf; text-decoration-color: #7fbfbf\">           </span><span style=\"color: #0000ff; text-decoration-color: #0000ff; text-decoration: underline\">AAPL.US,%20MS</span>                                                                              <span style=\"color: #7f7f7f; text-decoration-color: #7f7f7f\">             </span>\n",
       "</pre>\n"
      ],
      "text/plain": [
       "\u001b[2;36m          \u001b[0m\u001b[2;36m \u001b[0m\u001b[1;36m403\u001b[0m Client Error: Forbidden for url:                                                       \u001b]8;id=55117;file://c:\\Users\\yohan\\anaconda3\\envs\\final_proj_1\\Lib\\site-packages\\eodhd\\APIs\\BaseAPI.py\u001b\\\u001b[2mBaseAPI.py\u001b[0m\u001b]8;;\u001b\\\u001b[2m:\u001b[0m\u001b]8;id=826233;file://c:\\Users\\yohan\\anaconda3\\envs\\final_proj_1\\Lib\\site-packages\\eodhd\\APIs\\BaseAPI.py#52\u001b\\\u001b[2m52\u001b[0m\u001b]8;;\u001b\\\n",
       "\u001b[2;36m           \u001b[0m\u001b[4;94mhttps://eodhd.com/api/calendar/trends/?\u001b[0m\u001b[4;94mapi_token\u001b[0m\u001b[4;94m=\u001b[0m\u001b[4;94m67f455c8d6d949\u001b[0m\u001b[4;94m.46717903&\u001b[0m\u001b[4;94mfmt\u001b[0m\u001b[4;94m=\u001b[0m\u001b[4;94mjson\u001b[0m\u001b[4;94m&\u001b[0m\u001b[4;94msymbols\u001b[0m\u001b[4;94m=\u001b[0m \u001b[2m             \u001b[0m\n",
       "\u001b[2;36m           \u001b[0m\u001b[4;94mAAPL\u001b[0m\u001b[4;94m.US,%20MS\u001b[0m                                                                              \u001b[2m             \u001b[0m\n"
      ]
     },
     "metadata": {},
     "output_type": "display_data"
    },
    {
     "name": "stdout",
     "output_type": "stream",
     "text": [
      "Empty DataFrame\n",
      "Columns: []\n",
      "Index: []\n"
     ]
    }
   ],
   "source": [
    "earnings_trends = api.get_earning_trends_data (symbols = \"AAPL.US, MS\") \n",
    "et = pd.DataFrame(earnings_trends)\n",
    "print(et) # for Earnings Trends Data"
   ]
  },
  {
   "cell_type": "code",
   "execution_count": 7,
   "id": "7b92ca50",
   "metadata": {},
   "outputs": [],
   "source": [
    "api_token = \"67f455c8d6d949.46717903\""
   ]
  },
  {
   "cell_type": "code",
   "execution_count": 8,
   "id": "d4a3dba1",
   "metadata": {},
   "outputs": [
    {
     "ename": "JSONDecodeError",
     "evalue": "Expecting value: line 1 column 1 (char 0)",
     "output_type": "error",
     "traceback": [
      "\u001b[31m---------------------------------------------------------------------------\u001b[39m",
      "\u001b[31mJSONDecodeError\u001b[39m                           Traceback (most recent call last)",
      "\u001b[36mFile \u001b[39m\u001b[32mc:\\Users\\yohan\\anaconda3\\envs\\final_proj_1\\Lib\\site-packages\\requests\\models.py:974\u001b[39m, in \u001b[36mResponse.json\u001b[39m\u001b[34m(self, **kwargs)\u001b[39m\n\u001b[32m    973\u001b[39m \u001b[38;5;28;01mtry\u001b[39;00m:\n\u001b[32m--> \u001b[39m\u001b[32m974\u001b[39m     \u001b[38;5;28;01mreturn\u001b[39;00m \u001b[43mcomplexjson\u001b[49m\u001b[43m.\u001b[49m\u001b[43mloads\u001b[49m\u001b[43m(\u001b[49m\u001b[38;5;28;43mself\u001b[39;49m\u001b[43m.\u001b[49m\u001b[43mtext\u001b[49m\u001b[43m,\u001b[49m\u001b[43m \u001b[49m\u001b[43m*\u001b[49m\u001b[43m*\u001b[49m\u001b[43mkwargs\u001b[49m\u001b[43m)\u001b[49m\n\u001b[32m    975\u001b[39m \u001b[38;5;28;01mexcept\u001b[39;00m JSONDecodeError \u001b[38;5;28;01mas\u001b[39;00m e:\n\u001b[32m    976\u001b[39m     \u001b[38;5;66;03m# Catch JSON-related errors and raise as requests.JSONDecodeError\u001b[39;00m\n\u001b[32m    977\u001b[39m     \u001b[38;5;66;03m# This aliases json.JSONDecodeError and simplejson.JSONDecodeError\u001b[39;00m\n",
      "\u001b[36mFile \u001b[39m\u001b[32mc:\\Users\\yohan\\anaconda3\\envs\\final_proj_1\\Lib\\json\\__init__.py:346\u001b[39m, in \u001b[36mloads\u001b[39m\u001b[34m(s, cls, object_hook, parse_float, parse_int, parse_constant, object_pairs_hook, **kw)\u001b[39m\n\u001b[32m    343\u001b[39m \u001b[38;5;28;01mif\u001b[39;00m (\u001b[38;5;28mcls\u001b[39m \u001b[38;5;129;01mis\u001b[39;00m \u001b[38;5;28;01mNone\u001b[39;00m \u001b[38;5;129;01mand\u001b[39;00m object_hook \u001b[38;5;129;01mis\u001b[39;00m \u001b[38;5;28;01mNone\u001b[39;00m \u001b[38;5;129;01mand\u001b[39;00m\n\u001b[32m    344\u001b[39m         parse_int \u001b[38;5;129;01mis\u001b[39;00m \u001b[38;5;28;01mNone\u001b[39;00m \u001b[38;5;129;01mand\u001b[39;00m parse_float \u001b[38;5;129;01mis\u001b[39;00m \u001b[38;5;28;01mNone\u001b[39;00m \u001b[38;5;129;01mand\u001b[39;00m\n\u001b[32m    345\u001b[39m         parse_constant \u001b[38;5;129;01mis\u001b[39;00m \u001b[38;5;28;01mNone\u001b[39;00m \u001b[38;5;129;01mand\u001b[39;00m object_pairs_hook \u001b[38;5;129;01mis\u001b[39;00m \u001b[38;5;28;01mNone\u001b[39;00m \u001b[38;5;129;01mand\u001b[39;00m \u001b[38;5;129;01mnot\u001b[39;00m kw):\n\u001b[32m--> \u001b[39m\u001b[32m346\u001b[39m     \u001b[38;5;28;01mreturn\u001b[39;00m \u001b[43m_default_decoder\u001b[49m\u001b[43m.\u001b[49m\u001b[43mdecode\u001b[49m\u001b[43m(\u001b[49m\u001b[43ms\u001b[49m\u001b[43m)\u001b[49m\n\u001b[32m    347\u001b[39m \u001b[38;5;28;01mif\u001b[39;00m \u001b[38;5;28mcls\u001b[39m \u001b[38;5;129;01mis\u001b[39;00m \u001b[38;5;28;01mNone\u001b[39;00m:\n",
      "\u001b[36mFile \u001b[39m\u001b[32mc:\\Users\\yohan\\anaconda3\\envs\\final_proj_1\\Lib\\json\\decoder.py:337\u001b[39m, in \u001b[36mJSONDecoder.decode\u001b[39m\u001b[34m(self, s, _w)\u001b[39m\n\u001b[32m    333\u001b[39m \u001b[38;5;250m\u001b[39m\u001b[33;03m\"\"\"Return the Python representation of ``s`` (a ``str`` instance\u001b[39;00m\n\u001b[32m    334\u001b[39m \u001b[33;03mcontaining a JSON document).\u001b[39;00m\n\u001b[32m    335\u001b[39m \n\u001b[32m    336\u001b[39m \u001b[33;03m\"\"\"\u001b[39;00m\n\u001b[32m--> \u001b[39m\u001b[32m337\u001b[39m obj, end = \u001b[38;5;28;43mself\u001b[39;49m\u001b[43m.\u001b[49m\u001b[43mraw_decode\u001b[49m\u001b[43m(\u001b[49m\u001b[43ms\u001b[49m\u001b[43m,\u001b[49m\u001b[43m \u001b[49m\u001b[43midx\u001b[49m\u001b[43m=\u001b[49m\u001b[43m_w\u001b[49m\u001b[43m(\u001b[49m\u001b[43ms\u001b[49m\u001b[43m,\u001b[49m\u001b[43m \u001b[49m\u001b[32;43m0\u001b[39;49m\u001b[43m)\u001b[49m\u001b[43m.\u001b[49m\u001b[43mend\u001b[49m\u001b[43m(\u001b[49m\u001b[43m)\u001b[49m\u001b[43m)\u001b[49m\n\u001b[32m    338\u001b[39m end = _w(s, end).end()\n",
      "\u001b[36mFile \u001b[39m\u001b[32mc:\\Users\\yohan\\anaconda3\\envs\\final_proj_1\\Lib\\json\\decoder.py:355\u001b[39m, in \u001b[36mJSONDecoder.raw_decode\u001b[39m\u001b[34m(self, s, idx)\u001b[39m\n\u001b[32m    354\u001b[39m \u001b[38;5;28;01mexcept\u001b[39;00m \u001b[38;5;167;01mStopIteration\u001b[39;00m \u001b[38;5;28;01mas\u001b[39;00m err:\n\u001b[32m--> \u001b[39m\u001b[32m355\u001b[39m     \u001b[38;5;28;01mraise\u001b[39;00m JSONDecodeError(\u001b[33m\"\u001b[39m\u001b[33mExpecting value\u001b[39m\u001b[33m\"\u001b[39m, s, err.value) \u001b[38;5;28;01mfrom\u001b[39;00m\u001b[38;5;250m \u001b[39m\u001b[38;5;28;01mNone\u001b[39;00m\n\u001b[32m    356\u001b[39m \u001b[38;5;28;01mreturn\u001b[39;00m obj, end\n",
      "\u001b[31mJSONDecodeError\u001b[39m: Expecting value: line 1 column 1 (char 0)",
      "\nDuring handling of the above exception, another exception occurred:\n",
      "\u001b[31mJSONDecodeError\u001b[39m                           Traceback (most recent call last)",
      "\u001b[36mCell\u001b[39m\u001b[36m \u001b[39m\u001b[32mIn[8]\u001b[39m\u001b[32m, line 4\u001b[39m\n\u001b[32m      1\u001b[39m \u001b[38;5;28;01mimport\u001b[39;00m\u001b[38;5;250m \u001b[39m\u001b[34;01mrequests\u001b[39;00m\n\u001b[32m      3\u001b[39m url = \u001b[33mf\u001b[39m\u001b[33m'\u001b[39m\u001b[33mhttps://eodhd.com/api/calendar/earnings?from=2018-12-02&to=2018-12-06&api_token=\u001b[39m\u001b[38;5;132;01m{\u001b[39;00mapi_token\u001b[38;5;132;01m}\u001b[39;00m\u001b[33m&fmt=json\u001b[39m\u001b[33m'\u001b[39m\n\u001b[32m----> \u001b[39m\u001b[32m4\u001b[39m data = \u001b[43mrequests\u001b[49m\u001b[43m.\u001b[49m\u001b[43mget\u001b[49m\u001b[43m(\u001b[49m\u001b[43murl\u001b[49m\u001b[43m)\u001b[49m\u001b[43m.\u001b[49m\u001b[43mjson\u001b[49m\u001b[43m(\u001b[49m\u001b[43m)\u001b[49m\n\u001b[32m      6\u001b[39m \u001b[38;5;28mprint\u001b[39m(data)\n",
      "\u001b[36mFile \u001b[39m\u001b[32mc:\\Users\\yohan\\anaconda3\\envs\\final_proj_1\\Lib\\site-packages\\requests\\models.py:978\u001b[39m, in \u001b[36mResponse.json\u001b[39m\u001b[34m(self, **kwargs)\u001b[39m\n\u001b[32m    974\u001b[39m     \u001b[38;5;28;01mreturn\u001b[39;00m complexjson.loads(\u001b[38;5;28mself\u001b[39m.text, **kwargs)\n\u001b[32m    975\u001b[39m \u001b[38;5;28;01mexcept\u001b[39;00m JSONDecodeError \u001b[38;5;28;01mas\u001b[39;00m e:\n\u001b[32m    976\u001b[39m     \u001b[38;5;66;03m# Catch JSON-related errors and raise as requests.JSONDecodeError\u001b[39;00m\n\u001b[32m    977\u001b[39m     \u001b[38;5;66;03m# This aliases json.JSONDecodeError and simplejson.JSONDecodeError\u001b[39;00m\n\u001b[32m--> \u001b[39m\u001b[32m978\u001b[39m     \u001b[38;5;28;01mraise\u001b[39;00m RequestsJSONDecodeError(e.msg, e.doc, e.pos)\n",
      "\u001b[31mJSONDecodeError\u001b[39m: Expecting value: line 1 column 1 (char 0)"
     ]
    }
   ],
   "source": [
    "import requests\n",
    "\n",
    "url = f'https://eodhd.com/api/calendar/earnings?from=2018-12-02&to=2018-12-06&api_token={api_token}&fmt=json'\n",
    "data = requests.get(url).json()\n",
    "\n",
    "print(data)"
   ]
  },
  {
   "cell_type": "code",
   "execution_count": 10,
   "id": "72c599a3",
   "metadata": {},
   "outputs": [
    {
     "name": "stdout",
     "output_type": "stream",
     "text": [
      "YF.download() has changed argument auto_adjust default to True\n"
     ]
    },
    {
     "name": "stderr",
     "output_type": "stream",
     "text": [
      "[*********************100%***********************]  5 of 5 completed\n"
     ]
    }
   ],
   "source": [
    "import yfinance as yf\n",
    "import pandas as pd\n",
    "# import snowflake.connector\n",
    "# from snowflake.connector.pandas_tools import write_pandas\n",
    "\n",
    "# Example of batch downloading historical price data\n",
    "tickers = [\"AAPL\", \"MSFT\", \"GOOGL\", \"AMZN\", \"META\"]\n",
    "data = yf.download(tickers, period=\"1mo\")\n",
    "\n",
    "# Example of getting multiple company information\n",
    "ticker_objects = yf.Tickers(tickers)\n",
    "\n",
    "# Create dataframe for company info\n",
    "companies_data = []\n",
    "for symbol in tickers:\n",
    "    try:\n",
    "        info = ticker_objects.tickers[symbol].info\n",
    "        companies_data.append({\n",
    "            'SYMBOL': symbol,\n",
    "            'NAME': info.get('shortName', None),\n",
    "            'MARKET_CAP': info.get('marketCap', None),\n",
    "            'REVENUE': info.get('totalRevenue', None),\n",
    "            'PROFIT_MARGIN': info.get('profitMargin', None),\n",
    "            'PE_RATIO': info.get('trailingPE', None),\n",
    "            'DIVIDEND_YIELD': info.get('dividendYield', None),\n",
    "            'BETA': info.get('beta', None)\n",
    "        })\n",
    "    except Exception as e:\n",
    "        print(f\"Error processing {symbol}: {e}\")\n",
    "\n",
    "# Convert to DataFrame\n",
    "df = pd.DataFrame(companies_data)"
   ]
  },
  {
   "cell_type": "code",
   "execution_count": 11,
   "id": "579551a2",
   "metadata": {},
   "outputs": [
    {
     "data": {
      "text/html": [
       "<div>\n",
       "<style scoped>\n",
       "    .dataframe tbody tr th:only-of-type {\n",
       "        vertical-align: middle;\n",
       "    }\n",
       "\n",
       "    .dataframe tbody tr th {\n",
       "        vertical-align: top;\n",
       "    }\n",
       "\n",
       "    .dataframe thead th {\n",
       "        text-align: right;\n",
       "    }\n",
       "</style>\n",
       "<table border=\"1\" class=\"dataframe\">\n",
       "  <thead>\n",
       "    <tr style=\"text-align: right;\">\n",
       "      <th></th>\n",
       "      <th>SYMBOL</th>\n",
       "      <th>NAME</th>\n",
       "      <th>MARKET_CAP</th>\n",
       "      <th>REVENUE</th>\n",
       "      <th>PROFIT_MARGIN</th>\n",
       "      <th>PE_RATIO</th>\n",
       "      <th>DIVIDEND_YIELD</th>\n",
       "      <th>BETA</th>\n",
       "    </tr>\n",
       "  </thead>\n",
       "  <tbody>\n",
       "    <tr>\n",
       "      <th>0</th>\n",
       "      <td>AAPL</td>\n",
       "      <td>Apple Inc.</td>\n",
       "      <td>2725910413312</td>\n",
       "      <td>395760009216</td>\n",
       "      <td>None</td>\n",
       "      <td>28.84896900</td>\n",
       "      <td>0.53000000</td>\n",
       "      <td>1.25900000</td>\n",
       "    </tr>\n",
       "    <tr>\n",
       "      <th>1</th>\n",
       "      <td>MSFT</td>\n",
       "      <td>Microsoft Corporation</td>\n",
       "      <td>2660323819520</td>\n",
       "      <td>261802000384</td>\n",
       "      <td>None</td>\n",
       "      <td>28.83642200</td>\n",
       "      <td>0.92000000</td>\n",
       "      <td>1.00000000</td>\n",
       "    </tr>\n",
       "    <tr>\n",
       "      <th>2</th>\n",
       "      <td>GOOGL</td>\n",
       "      <td>Alphabet Inc.</td>\n",
       "      <td>1800739880960</td>\n",
       "      <td>350018011136</td>\n",
       "      <td>None</td>\n",
       "      <td>18.25248700</td>\n",
       "      <td>0.55000000</td>\n",
       "      <td>1.03500000</td>\n",
       "    </tr>\n",
       "    <tr>\n",
       "      <th>3</th>\n",
       "      <td>AMZN</td>\n",
       "      <td>Amazon.com, Inc.</td>\n",
       "      <td>1857352761344</td>\n",
       "      <td>637959012352</td>\n",
       "      <td>None</td>\n",
       "      <td>31.75000000</td>\n",
       "      <td>NaN</td>\n",
       "      <td>1.39300000</td>\n",
       "    </tr>\n",
       "    <tr>\n",
       "      <th>4</th>\n",
       "      <td>META</td>\n",
       "      <td>Meta Platforms, Inc.</td>\n",
       "      <td>1308001959936</td>\n",
       "      <td>164500996096</td>\n",
       "      <td>None</td>\n",
       "      <td>21.62756500</td>\n",
       "      <td>0.42000000</td>\n",
       "      <td>1.27900000</td>\n",
       "    </tr>\n",
       "  </tbody>\n",
       "</table>\n",
       "</div>"
      ],
      "text/plain": [
       "  SYMBOL                   NAME     MARKET_CAP       REVENUE PROFIT_MARGIN  \\\n",
       "0   AAPL             Apple Inc.  2725910413312  395760009216          None   \n",
       "1   MSFT  Microsoft Corporation  2660323819520  261802000384          None   \n",
       "2  GOOGL          Alphabet Inc.  1800739880960  350018011136          None   \n",
       "3   AMZN       Amazon.com, Inc.  1857352761344  637959012352          None   \n",
       "4   META   Meta Platforms, Inc.  1308001959936  164500996096          None   \n",
       "\n",
       "     PE_RATIO  DIVIDEND_YIELD       BETA  \n",
       "0 28.84896900      0.53000000 1.25900000  \n",
       "1 28.83642200      0.92000000 1.00000000  \n",
       "2 18.25248700      0.55000000 1.03500000  \n",
       "3 31.75000000             NaN 1.39300000  \n",
       "4 21.62756500      0.42000000 1.27900000  "
      ]
     },
     "execution_count": 11,
     "metadata": {},
     "output_type": "execute_result"
    }
   ],
   "source": [
    "df.head()"
   ]
  },
  {
   "cell_type": "code",
   "execution_count": 12,
   "id": "ec780f21",
   "metadata": {},
   "outputs": [
    {
     "name": "stdout",
     "output_type": "stream",
     "text": [
      "Symbols count: 4841\n"
     ]
    }
   ],
   "source": [
    "import shutil\n",
    "import urllib.request as request\n",
    "from contextlib import closing\n",
    "import csv\n",
    "\n",
    "URLS = [\n",
    "    {\n",
    "        \"url\": \"ftp://ftp.nasdaqtrader.com/SymbolDirectory/otherlisted.txt\",\n",
    "        \"key\": \"ACT Symbol\"\n",
    "    },\n",
    "    {\n",
    "        \"url\": \"ftp://ftp.nasdaqtrader.com/SymbolDirectory/nasdaqlisted.txt\",\n",
    "        \"key\": \"Symbol\"\n",
    "    }\n",
    "]\n",
    "\n",
    "symbols = []\n",
    "\n",
    "for u in URLS:\n",
    "    with closing(request.urlopen(u['url'])) as r:\n",
    "        with open(u['url'].split(\"/\")[-1], 'wb') as f:\n",
    "            shutil.copyfileobj(r, f)\n",
    "    with open(u['url'].split(\"/\")[-1], 'r') as f:\n",
    "        reader = csv.DictReader(f, delimiter=\"|\")\n",
    "        for line in reader:\n",
    "            if len(u['key'].split(' ')) == 1:\n",
    "                symbols.append(line[u['key']])\n",
    "\n",
    "print(f'Symbols count: {len(symbols)}')"
   ]
  },
  {
   "cell_type": "code",
   "execution_count": 17,
   "id": "ef65be19",
   "metadata": {},
   "outputs": [],
   "source": [
    "import pandas as pd\n",
    "url = 'https://datahub.io/core/nyse-other-listings/r/nyse-listed.csv'\n",
    "df = pd.read_csv(url)\n"
   ]
  },
  {
   "cell_type": "code",
   "execution_count": 23,
   "id": "2eeccfa2",
   "metadata": {},
   "outputs": [
    {
     "data": {
      "text/html": [
       "<div>\n",
       "<style scoped>\n",
       "    .dataframe tbody tr th:only-of-type {\n",
       "        vertical-align: middle;\n",
       "    }\n",
       "\n",
       "    .dataframe tbody tr th {\n",
       "        vertical-align: top;\n",
       "    }\n",
       "\n",
       "    .dataframe thead th {\n",
       "        text-align: right;\n",
       "    }\n",
       "</style>\n",
       "<table border=\"1\" class=\"dataframe\">\n",
       "  <thead>\n",
       "    <tr style=\"text-align: right;\">\n",
       "      <th></th>\n",
       "      <th>ACT Symbol</th>\n",
       "      <th>Company Name</th>\n",
       "    </tr>\n",
       "  </thead>\n",
       "  <tbody>\n",
       "    <tr>\n",
       "      <th>0</th>\n",
       "      <td>A</td>\n",
       "      <td>Agilent Technologies, Inc. Common Stock</td>\n",
       "    </tr>\n",
       "    <tr>\n",
       "      <th>1</th>\n",
       "      <td>AA</td>\n",
       "      <td>Alcoa Corporation Common Stock</td>\n",
       "    </tr>\n",
       "    <tr>\n",
       "      <th>2</th>\n",
       "      <td>AACT</td>\n",
       "      <td>Ares Acquisition Corporation II Class A Ordina...</td>\n",
       "    </tr>\n",
       "    <tr>\n",
       "      <th>3</th>\n",
       "      <td>AACT.U</td>\n",
       "      <td>Ares Acquisition Corporation II Units, each co...</td>\n",
       "    </tr>\n",
       "    <tr>\n",
       "      <th>4</th>\n",
       "      <td>AACT.W</td>\n",
       "      <td>Ares Acquisition Corporation II Redeemable War...</td>\n",
       "    </tr>\n",
       "  </tbody>\n",
       "</table>\n",
       "</div>"
      ],
      "text/plain": [
       "  ACT Symbol                                       Company Name\n",
       "0          A            Agilent Technologies, Inc. Common Stock\n",
       "1         AA                    Alcoa Corporation Common Stock \n",
       "2       AACT  Ares Acquisition Corporation II Class A Ordina...\n",
       "3     AACT.U  Ares Acquisition Corporation II Units, each co...\n",
       "4     AACT.W  Ares Acquisition Corporation II Redeemable War..."
      ]
     },
     "execution_count": 23,
     "metadata": {},
     "output_type": "execute_result"
    }
   ],
   "source": [
    "df.head()"
   ]
  },
  {
   "cell_type": "code",
   "execution_count": null,
   "id": "6c2f5c57",
   "metadata": {},
   "outputs": [],
   "source": []
  }
 ],
 "metadata": {
  "kernelspec": {
   "display_name": "final_project_2",
   "language": "python",
   "name": "python3"
  },
  "language_info": {
   "codemirror_mode": {
    "name": "ipython",
    "version": 3
   },
   "file_extension": ".py",
   "mimetype": "text/x-python",
   "name": "python",
   "nbconvert_exporter": "python",
   "pygments_lexer": "ipython3",
   "version": "3.12.0"
  }
 },
 "nbformat": 4,
 "nbformat_minor": 5
}
